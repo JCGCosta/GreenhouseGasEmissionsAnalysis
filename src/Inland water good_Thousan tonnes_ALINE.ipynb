{
 "cells": [
  {
   "cell_type": "code",
   "execution_count": 3,
   "id": "e9b53fa1",
   "metadata": {},
   "outputs": [
    {
     "ename": "ModuleNotFoundError",
     "evalue": "No module named 'plotly'",
     "output_type": "error",
     "traceback": [
      "\u001b[1;31m---------------------------------------------------------------------------\u001b[0m",
      "\u001b[1;31mModuleNotFoundError\u001b[0m                       Traceback (most recent call last)",
      "\u001b[1;32m<ipython-input-3-14cfa5b73b44>\u001b[0m in \u001b[0;36m<module>\u001b[1;34m\u001b[0m\n\u001b[0;32m      7\u001b[0m \u001b[1;32mimport\u001b[0m \u001b[0mpandas\u001b[0m \u001b[1;32mas\u001b[0m \u001b[0mpd\u001b[0m\u001b[1;33m\u001b[0m\u001b[1;33m\u001b[0m\u001b[0m\n\u001b[0;32m      8\u001b[0m \u001b[0mpd\u001b[0m\u001b[1;33m.\u001b[0m\u001b[0moptions\u001b[0m\u001b[1;33m.\u001b[0m\u001b[0mmode\u001b[0m\u001b[1;33m.\u001b[0m\u001b[0mchained_assignment\u001b[0m \u001b[1;33m=\u001b[0m \u001b[1;32mNone\u001b[0m\u001b[1;33m\u001b[0m\u001b[1;33m\u001b[0m\u001b[0m\n\u001b[1;32m----> 9\u001b[1;33m \u001b[1;32mimport\u001b[0m \u001b[0mplotly\u001b[0m\u001b[1;33m.\u001b[0m\u001b[0mexpress\u001b[0m \u001b[1;32mas\u001b[0m \u001b[0mpx\u001b[0m\u001b[1;33m\u001b[0m\u001b[1;33m\u001b[0m\u001b[0m\n\u001b[0m\u001b[0;32m     10\u001b[0m \u001b[1;32mimport\u001b[0m \u001b[0mplotly\u001b[0m\u001b[1;33m.\u001b[0m\u001b[0mgraph_objs\u001b[0m \u001b[1;32mas\u001b[0m \u001b[0mgo\u001b[0m\u001b[1;33m\u001b[0m\u001b[1;33m\u001b[0m\u001b[0m\n\u001b[0;32m     11\u001b[0m \u001b[1;32mimport\u001b[0m \u001b[0mnumpy\u001b[0m \u001b[1;32mas\u001b[0m \u001b[0mnp\u001b[0m\u001b[1;33m\u001b[0m\u001b[1;33m\u001b[0m\u001b[0m\n",
      "\u001b[1;31mModuleNotFoundError\u001b[0m: No module named 'plotly'"
     ]
    }
   ],
   "source": [
    "import pandas as pd\n",
    "import numpy as np\n",
    "import matplotlib.pyplot as plt\n",
    "import seaborn as sns\n",
    "from sklearn.model_selection import cross_validate\n",
    "\n",
    "import pandas as pd\n",
    "pd.options.mode.chained_assignment = None\n",
    "import plotly.express as px\n",
    "import plotly.graph_objs as go\n",
    "import numpy as np\n",
    "import seaborn as sns\n",
    "import matplotlib.pyplot as plt\n",
    "from scipy import stats\n",
    "\n",
    "from sklearn import metrics\n",
    "from sklearn.metrics import r2_score\n",
    "\n",
    "# Regression\n",
    "from sklearn.linear_model import LinearRegression,Ridge,Lasso,RidgeCV, ElasticNet\n",
    "from sklearn.ensemble import RandomForestRegressor,BaggingRegressor,GradientBoostingRegressor,AdaBoostRegressor \n",
    "from sklearn.svm import SVR\n",
    "from sklearn.neighbors import KNeighborsRegressor\n",
    "from sklearn.neural_network import MLPRegressor\n",
    "from sklearn import metrics\n",
    "\n",
    "# Modelling Helpers :\n",
    "from sklearn.model_selection import train_test_split\n",
    "from sklearn.model_selection import GridSearchCV , KFold , cross_val_score\n",
    "\n",
    "#preprocessing :\n",
    "from sklearn.preprocessing import MinMaxScaler, StandardScaler, LabelEncoder\n",
    "\n",
    "# Metrics - Regression\n",
    "from sklearn.metrics import mean_squared_log_error,mean_squared_error, r2_score,mean_absolute_error \n",
    "\n",
    "# Visualisation\n",
    "import matplotlib as mpl\n",
    "import matplotlib.pyplot as plt\n",
    "import matplotlib.pylab as pylab\n",
    "import seaborn as sns\n",
    "import missingno as msno"
   ]
  },
  {
   "cell_type": "code",
   "execution_count": null,
   "id": "0fa8f95e",
   "metadata": {},
   "outputs": [],
   "source": [
    "import sys\n",
    "sys.path.insert(0, '/Users/alinemaruyama/Documents/_functions/')\n",
    "\n",
    "from Functions_EDA import *\n",
    "from fx_MLRegression import *\n",
    "from fx_MLClassification import *"
   ]
  },
  {
   "cell_type": "code",
   "execution_count": null,
   "id": "99700c79",
   "metadata": {},
   "outputs": [],
   "source": [
    "data = pd.read_excel(\"/Users/alinemaruyama/Documents/Thesis analyse/Data sets/Inland water good_Thousan tonnes,iww_go_atygo07.xls\",sheet_name= 'Data',skiprows=[0])\n",
    "data.head()"
   ]
  },
  {
   "cell_type": "code",
   "execution_count": null,
   "id": "26e57ac4",
   "metadata": {},
   "outputs": [],
   "source": [
    "data.info()"
   ]
  },
  {
   "cell_type": "code",
   "execution_count": null,
   "id": "b4b0b7b4",
   "metadata": {},
   "outputs": [],
   "source": [
    "data.columns"
   ]
  },
  {
   "cell_type": "code",
   "execution_count": null,
   "id": "b21ce158",
   "metadata": {},
   "outputs": [],
   "source": [
    "germany=data[['Time','Germany']]"
   ]
  },
  {
   "cell_type": "code",
   "execution_count": null,
   "id": "4f2121bc",
   "metadata": {},
   "outputs": [],
   "source": [
    "eu_27=data[['Time','European Union - 27 countries (from 2020)']]"
   ]
  },
  {
   "cell_type": "code",
   "execution_count": null,
   "id": "5ddf4c74",
   "metadata": {},
   "outputs": [],
   "source": [
    "eu_28=data[['Time','European Union - 28 countries (2013-2020)']]"
   ]
  },
  {
   "cell_type": "code",
   "execution_count": null,
   "id": "e4492573",
   "metadata": {},
   "outputs": [],
   "source": [
    "eu_27_2=data[['Time','European Union - 27 countries (2007-2013)']]"
   ]
  },
  {
   "cell_type": "code",
   "execution_count": null,
   "id": "908e5aef",
   "metadata": {},
   "outputs": [],
   "source": [
    "eu_25=data[['Time','European Union - 25 countries (2004-2006)']]"
   ]
  },
  {
   "cell_type": "code",
   "execution_count": null,
   "id": "6e47c9e5",
   "metadata": {},
   "outputs": [],
   "source": [
    "eu_15=data[['Time','European Union - 15 countries (1995-2004)']]"
   ]
  },
  {
   "cell_type": "code",
   "execution_count": null,
   "id": "f0bec2a9",
   "metadata": {},
   "outputs": [],
   "source": [
    "eu_27=eu_27.dropna()\n",
    "eu_27.describe().T"
   ]
  },
  {
   "cell_type": "code",
   "execution_count": null,
   "id": "1759706b",
   "metadata": {},
   "outputs": [],
   "source": [
    "eu_28=eu_28.dropna()\n",
    "eu_28.describe().T"
   ]
  },
  {
   "cell_type": "code",
   "execution_count": null,
   "id": "4ed4dfde",
   "metadata": {},
   "outputs": [],
   "source": [
    "eu_27_2=eu_27_2.dropna()\n",
    "eu_27_2.describe().T"
   ]
  },
  {
   "cell_type": "code",
   "execution_count": null,
   "id": "8c3f105b",
   "metadata": {},
   "outputs": [],
   "source": [
    "eu_25=eu_25.dropna()\n",
    "eu_25.describe().T"
   ]
  },
  {
   "cell_type": "code",
   "execution_count": null,
   "id": "f88b3cb0",
   "metadata": {},
   "outputs": [],
   "source": [
    "eu_15=eu_15.dropna()\n",
    "eu_15.describe().T"
   ]
  },
  {
   "cell_type": "code",
   "execution_count": null,
   "id": "376b7098",
   "metadata": {},
   "outputs": [],
   "source": [
    "germany=germany.dropna()\n",
    "germany.describe().T"
   ]
  },
  {
   "cell_type": "markdown",
   "id": "34816eda",
   "metadata": {},
   "source": [
    "# Germany"
   ]
  },
  {
   "cell_type": "code",
   "execution_count": null,
   "id": "ef870df3",
   "metadata": {},
   "outputs": [],
   "source": [
    "germany.plot(kind=\"scatter\", x=\"Time\", y=\"Germany\", rot=90, figsize=(15,5))"
   ]
  },
  {
   "cell_type": "markdown",
   "id": "404a1c8e",
   "metadata": {},
   "source": [
    "Linear Regressiion"
   ]
  },
  {
   "cell_type": "code",
   "execution_count": null,
   "id": "e78f9edf",
   "metadata": {},
   "outputs": [],
   "source": [
    "X = germany['Time']\n",
    "y = germany['Germany']"
   ]
  },
  {
   "cell_type": "code",
   "execution_count": null,
   "id": "cc4cae75",
   "metadata": {},
   "outputs": [],
   "source": [
    "X_train, X_test, y_train, y_test = train_test_split(X, y,\n",
    "                                                    test_size = 0.33,\n",
    "                                                    random_state = 7)"
   ]
  },
  {
   "cell_type": "code",
   "execution_count": null,
   "id": "d68e0fa7",
   "metadata": {},
   "outputs": [],
   "source": [
    "y_train =  np.array(y_train).reshape(-1, 1)  # values converts it into \n",
    "# a numpy array\n",
    "X_train = np.array(X_train).reshape(-1, 1) \n",
    "\n",
    "y_test =  np.array(y_test).reshape(-1, 1)  # values converts it into a \n",
    "#numpy array\n",
    "X_test = np.array(X_test).reshape(-1, 1) "
   ]
  },
  {
   "cell_type": "code",
   "execution_count": null,
   "id": "221ca695",
   "metadata": {
    "scrolled": true
   },
   "outputs": [],
   "source": [
    "# Instantiate the model\n",
    "linear_m = LinearRegression()\n",
    "\n",
    "# Train the model\n",
    "linear_m.fit(X_train, y_train)"
   ]
  },
  {
   "cell_type": "code",
   "execution_count": null,
   "id": "f65e2923",
   "metadata": {},
   "outputs": [],
   "source": [
    "y_pred = linear_m.predict(X_test)\n",
    "y_pred"
   ]
  },
  {
   "cell_type": "code",
   "execution_count": null,
   "id": "54745393",
   "metadata": {},
   "outputs": [],
   "source": [
    "accuracy = linear_m.score(X_test, y_test)\n",
    "print('Accuracy = '+ str(accuracy))"
   ]
  },
  {
   "cell_type": "code",
   "execution_count": null,
   "id": "33f2f14c",
   "metadata": {},
   "outputs": [],
   "source": [
    "# TEST set\n",
    "MAE_l = metrics.mean_absolute_error(y_test, y_pred)\n",
    "MSE_l = metrics.mean_squared_error(y_test, y_pred)\n",
    "RMSE_l = np.sqrt(MSE_l)\n",
    "R2_l = r2_score(y_test, y_pred)\n",
    "\n",
    "print('MAE:', MAE_l)\n",
    "print('MSE:', MSE_l)\n",
    "print('RMSE:', round(RMSE_l,3))\n",
    "print('R2 Score:', R2_l)"
   ]
  },
  {
   "cell_type": "code",
   "execution_count": null,
   "id": "cde565b8",
   "metadata": {},
   "outputs": [],
   "source": [
    "from sklearn.model_selection import cross_val_score\n",
    "import math\n",
    "\n",
    "cv_reg_model = LinearRegression() #Let's initialize the method \n",
    "\n",
    "cv_scores = cross_val_score(cv_reg_model, X_train, y_train,\n",
    "                            cv=10, scoring='r2') # Let's define the cv and \n",
    "\n",
    "print('Cross Validation R2_score: {}'.format(cv_scores.round(2)))\n",
    "\n",
    "#cv_scores = np.mean(cv_scores).round(3)\n",
    "#print(\"\\nAverage 10-Fold CV R2_score: {}\".format(cv_scores))"
   ]
  },
  {
   "cell_type": "code",
   "execution_count": null,
   "id": "2016f3a4",
   "metadata": {},
   "outputs": [],
   "source": [
    "# Let's calculate the metrics with our TRAIN dataset\n",
    "y_predTrain = linear_m.predict(X_train)\n",
    "\n",
    "MAE_lTrain = metrics.mean_absolute_error(y_train, y_predTrain)\n",
    "MSE_lTrain = metrics.mean_squared_error(y_train,y_predTrain)\n",
    "RMSE_lTrain = np.sqrt(metrics.mean_squared_error(y_train, y_predTrain))\n",
    "R2_lTrain = r2_score(y_train, y_predTrain)\n",
    "\n",
    "print('\\n TRAIN metrics\\n')\n",
    "print('MAE:', round(MAE_lTrain,3))\n",
    "print('MSE:', round(MSE_lTrain,3))\n",
    "print('RMSE:', round(RMSE_lTrain,3))\n",
    "print('R2 Score:', round(R2_lTrain,3))\n",
    "\n",
    "print('\\n CV- TRAIN metrics\\n')\n",
    "print('R2 Score:', cv_scores)\n",
    "\n",
    "print('\\n TEST metrics\\n')\n",
    "print('MAE:', round(MAE_l,3))\n",
    "print('MSE:', round(MSE_l,3))\n",
    "print('RMSE:', round(RMSE_l,3))\n",
    "print('R2 Score:', round(R2_l,3))"
   ]
  },
  {
   "cell_type": "markdown",
   "id": "da3d4daf",
   "metadata": {},
   "source": [
    "#  Polynomial Regression"
   ]
  },
  {
   "cell_type": "code",
   "execution_count": null,
   "id": "f7cd4ef1",
   "metadata": {},
   "outputs": [],
   "source": [
    "# Trianing the Model\n",
    "from sklearn.preprocessing import PolynomialFeatures\n",
    "poly_reg = PolynomialFeatures(degree =2)\n",
    "poly_reg"
   ]
  },
  {
   "cell_type": "code",
   "execution_count": null,
   "id": "955b5cde",
   "metadata": {},
   "outputs": [],
   "source": [
    "X_poly = poly_reg.fit_transform(X).reshape(-1, 1)\n",
    "X_poly"
   ]
  },
  {
   "cell_type": "code",
   "execution_count": null,
   "id": "ca57191d",
   "metadata": {},
   "outputs": [],
   "source": [
    "\n",
    "X_poly.shape\n",
    "y_train =  np.array(y_train).reshape(-1, 1)  # values converts it into \n",
    "# a numpy array\n",
    "X_train = np.array(X_train).reshape(-1, 1) \n",
    "\n",
    "y_test =  np.array(y_test).reshape(-1, 1)  # values converts it into a \n",
    "#numpy array\n",
    "X_test = np.array(X_test).reshape(-1, 1) "
   ]
  },
  {
   "cell_type": "code",
   "execution_count": null,
   "id": "fd3294f4",
   "metadata": {},
   "outputs": [],
   "source": [
    "_train, X_test, y_train, y_test = train_test_split(X_poly, y, \n",
    "                                                    test_size = 0.3, \n",
    "                                                    random_state = 42"
   ]
  },
  {
   "cell_type": "code",
   "execution_count": null,
   "id": "53785ba6",
   "metadata": {},
   "outputs": [],
   "source": [
    "lin_reg_2 = LinearRegression()\n",
    "\n",
    "lin_reg_2.fit(X_train, y_train)"
   ]
  },
  {
   "cell_type": "code",
   "execution_count": null,
   "id": "40c0227c",
   "metadata": {},
   "outputs": [],
   "source": [
    "accuracy = lin_reg_2.score(X_test, y_test)\n",
    "print('Accuracy = '+ str(accuracy))"
   ]
  },
  {
   "cell_type": "code",
   "execution_count": null,
   "id": "b91abb97",
   "metadata": {},
   "outputs": [],
   "source": [
    "y_pred = lin_reg_2.predict(X_test)\n",
    "y_pred"
   ]
  },
  {
   "cell_type": "code",
   "execution_count": null,
   "id": "c4562101",
   "metadata": {},
   "outputs": [],
   "source": [
    "##Comparing the actual output values with the predicted values\n",
    "new_df = pd.DataFrame({'Actual': y_test, 'Predicted': y_pred})\n",
    "new_df"
   ]
  },
  {
   "cell_type": "code",
   "execution_count": null,
   "id": "6d859d16",
   "metadata": {},
   "outputs": [],
   "source": [
    "plt.style.use('seaborn')\n",
    "plt.scatter(y_pred, y_test, color = 'orange', marker = 'o', s = 35, alpha = 0.5,\n",
    "          label = 'Test data')\n",
    "\n",
    "plt.title('Predicted Values vs Real values')\n",
    "plt.xlabel('Real values')\n",
    "plt.ylabel('Predicted Values')\n",
    "plt.legend(loc = 'upper left')\n",
    "plt.show()"
   ]
  },
  {
   "cell_type": "code",
   "execution_count": null,
   "id": "d056e9e5",
   "metadata": {},
   "outputs": [],
   "source": [
    "# TEST set\n",
    "MAE_l = metrics.mean_absolute_error(y_test, y_pred)\n",
    "MSE_l = metrics.mean_squared_error(y_test, y_pred)\n",
    "RMSE_l = np.sqrt(MSE_l)\n",
    "R2_l = r2_score(y_test, y_pred)\n",
    "\n",
    "print('MAE:', MAE_l)\n",
    "print('MSE:', MSE_l)\n",
    "print('RMSE:', round(RMSE_l,3))\n",
    "print('R2 Score:', R2_l)"
   ]
  },
  {
   "cell_type": "code",
   "execution_count": null,
   "id": "cc4ceec3",
   "metadata": {},
   "outputs": [],
   "source": [
    "from sklearn.model_selection import cross_val_score\n",
    "import math\n",
    "\n",
    "cv_reg_model = LinearRegression() #Let's initialize the method \n",
    "\n",
    "cv_scores = cross_val_score(cv_reg_model, X_train, y_train,\n",
    "                            cv=10, scoring='r2') # Let's define the cv and \n",
    "\n",
    "print('Cross Validation R2_score: {}'.format(cv_scores.round(2)))\n",
    "\n",
    "#cv_scores = np.mean(cv_scores).round(3)\n",
    "#print(\"\\nAverage 10-Fold CV R2_score: {}\".format(cv_scores))"
   ]
  },
  {
   "cell_type": "code",
   "execution_count": null,
   "id": "3584a5df",
   "metadata": {},
   "outputs": [],
   "source": [
    "# TEST set\n",
    "MAE_l = metrics.mean_absolute_error(y_test, y_pred)\n",
    "MSE_l = metrics.mean_squared_error(y_test, y_pred)\n",
    "RMSE_l = np.sqrt(metrics.mean_squared_error(y_test, y_pred))\n",
    "\n",
    "print('MAE:', MAE_l)\n",
    "print('MSE:', MSE_l)\n",
    "print('RMSE:', round(RMSE_l,3))\n",
    "print('R2 Score:', accuracy)"
   ]
  },
  {
   "cell_type": "code",
   "execution_count": null,
   "id": "f4477c15",
   "metadata": {},
   "outputs": [],
   "source": [
    "from sklearn.model_selection import cross_val_score\n",
    "import math\n",
    "\n",
    "cv_reg_model = LinearRegression() #Let's initialize the method \n",
    "cv_scores = cross_val_score(cv_reg_model, X_train, y_train,\n",
    "                            cv=10, scoring='r2') # Let's define the K and the \n",
    "\n",
    "print('Cross Validation R2_score: {}'.format(cv_scores.round(2)))\n",
    "\n",
    "cv_scores = np.mean(cv_scores).round(3)\n",
    "print(\"\\nAverage 10-Fold CV R2_score: {}\".format(cv_scores))"
   ]
  },
  {
   "cell_type": "code",
   "execution_count": null,
   "id": "f51d8e19",
   "metadata": {},
   "outputs": [],
   "source": [
    "# Let's calculate the metrics with our TRAIN dataset\n",
    "y_predTrain = lin_reg_2.predict(X_train)\n",
    "\n",
    "MAE_lTrain = metrics.mean_absolute_error(y_train, y_predTrain)\n",
    "MSE_lTrain = metrics.mean_squared_error(y_train,y_predTrain)\n",
    "RMSE_lTrain = np.sqrt(metrics.mean_squared_error(y_train, y_predTrain))\n",
    "R2_lTrain = r2_score(y_train, y_predTrain)\n",
    "\n",
    "print('\\n TRAIN metrics\\n')\n",
    "print('MAE:', round(MAE_lTrain,3))\n",
    "print('MSE:', round(MSE_lTrain,3))\n",
    "print('RMSE:', round(RMSE_lTrain,3))\n",
    "print('R2 Score:', round(R2_lTrain,3))\n",
    "\n",
    "\n",
    "print('-----------------------------------------------------')\n",
    "\n",
    "print('\\n CV- TRAIN metrics\\n')\n",
    "print('R2 Score:', cv_scores)\n",
    "print('-----------------------------------------------------')\n",
    "\n",
    "print('\\n TEST metrics\\n')\n",
    "print('MAE:', round(MAE_l,3))\n",
    "print('MSE:', round(MSE_l,3))\n",
    "print('RMSE:', round(RMSE_l,3))\n",
    "print('R2 Score:', round(accuracy,3))"
   ]
  },
  {
   "cell_type": "code",
   "execution_count": null,
   "id": "09cea816",
   "metadata": {},
   "outputs": [],
   "source": [
    "from sklearn.metrics import mean_squared_error, mean_absolute_error, r2_score\n",
    "\n",
    "def plotPolynomialRegression(dtframe, initialOrder, finalOrder):\n",
    "    X = dtframe.index\n",
    "    Y = dtframe[\"Germany\"].values\n",
    "    \n",
    "    y, MAE, orders = [], [], range(initialOrder, finalOrder + 1)\n",
    "    for order in orders:\n",
    "        model = np.poly1d(np.polyfit(X, Y, order))\n",
    "        y += [model(X)]\n",
    "\n",
    "    plt.figure(figsize=(18.5, 10.5))\n",
    "    plt.subplots_adjust(hspace=0.5)\n",
    "    \n",
    "    nrows = len(orders) // 2 + (len(orders) % 2 > 0)\n",
    "    \n",
    "    for i, order in enumerate(orders):\n",
    "        ax = plt.subplot(nrows, 2, i + 1)\n",
    "        ax.scatter(X,Y)\n",
    "        ax.plot(X,y[i], color='red')\n",
    "        ax.set_title('{}-order function'.format(order))\n",
    "    \n",
    "    plt.show()\n",
    "    \n",
    "    print(\"MEAN ABSOLUTE ERROR\")\n",
    "    for i, order in enumerate(orders):\n",
    "        print(\"Mean Absolute Error ({}-order function) = {:0.4f}\".format(order, mean_absolute_error(Y, y[i])))\n",
    "    print(\"\\nMEAN SQUARED ERROR\")\n",
    "    for i, order in enumerate(orders):\n",
    "        print(\"Mean Squared Error ({}-order function) = {:0.4f}\".format(order, np.sqrt(mean_squared_error(Y, y[i]))))\n",
    "    print(\"\\nR2 SCORE\")\n",
    "    for i, order in enumerate(orders):\n",
    "        print(\"R2 Score ({}-order function) = {:0.4f}\".format(order, r2_score(Y, y[i])))"
   ]
  },
  {
   "cell_type": "code",
   "execution_count": null,
   "id": "e2befe18",
   "metadata": {},
   "outputs": [],
   "source": [
    "plotPolynomialRegression(germany, 2, 5)"
   ]
  },
  {
   "cell_type": "code",
   "execution_count": null,
   "id": "9ae3630d",
   "metadata": {},
   "outputs": [],
   "source": []
  },
  {
   "cell_type": "code",
   "execution_count": null,
   "id": "18bfd90b",
   "metadata": {},
   "outputs": [],
   "source": []
  },
  {
   "cell_type": "code",
   "execution_count": null,
   "id": "af5cf606",
   "metadata": {},
   "outputs": [],
   "source": []
  },
  {
   "cell_type": "code",
   "execution_count": null,
   "id": "812e8ac0",
   "metadata": {},
   "outputs": [],
   "source": []
  },
  {
   "cell_type": "code",
   "execution_count": null,
   "id": "372d8535",
   "metadata": {},
   "outputs": [],
   "source": []
  },
  {
   "cell_type": "code",
   "execution_count": null,
   "id": "7f4c2307",
   "metadata": {},
   "outputs": [],
   "source": []
  },
  {
   "cell_type": "code",
   "execution_count": null,
   "id": "01a8771e",
   "metadata": {},
   "outputs": [],
   "source": []
  },
  {
   "cell_type": "markdown",
   "id": "58f670a3",
   "metadata": {},
   "source": [
    "# European Union - 27 countries (from 2020)"
   ]
  },
  {
   "cell_type": "markdown",
   "id": "9c79cef3",
   "metadata": {},
   "source": [
    "# European Union - 28 countries (2013-2020)"
   ]
  },
  {
   "cell_type": "markdown",
   "id": "31798e0b",
   "metadata": {},
   "source": [
    "# European Union - 27 countries (2007-2013)"
   ]
  },
  {
   "cell_type": "markdown",
   "id": "20ccfa8a",
   "metadata": {},
   "source": [
    "# European Union - 25 countries (2004-2006)"
   ]
  },
  {
   "cell_type": "markdown",
   "id": "23a44777",
   "metadata": {},
   "source": [
    "# European Union - 15 countries (1995-2004)"
   ]
  },
  {
   "cell_type": "code",
   "execution_count": null,
   "id": "6c7c7a2e",
   "metadata": {},
   "outputs": [],
   "source": []
  }
 ],
 "metadata": {
  "kernelspec": {
   "display_name": "Python 3",
   "language": "python",
   "name": "python3"
  },
  "language_info": {
   "codemirror_mode": {
    "name": "ipython",
    "version": 3
   },
   "file_extension": ".py",
   "mimetype": "text/x-python",
   "name": "python",
   "nbconvert_exporter": "python",
   "pygments_lexer": "ipython3",
   "version": "3.7.10"
  }
 },
 "nbformat": 4,
 "nbformat_minor": 5
}
